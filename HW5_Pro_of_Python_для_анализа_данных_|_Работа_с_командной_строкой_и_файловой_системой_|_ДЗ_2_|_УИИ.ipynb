{
  "nbformat": 4,
  "nbformat_minor": 0,
  "metadata": {
    "colab": {
      "name": "HW5_Pro of Python для анализа данных | Работа с командной строкой и файловой системой | ДЗ 2 | УИИ",
      "provenance": [],
      "collapsed_sections": [],
      "include_colab_link": true
    },
    "kernelspec": {
      "name": "python3",
      "display_name": "Python 3"
    },
    "language_info": {
      "name": "python"
    }
  },
  "cells": [
    {
      "cell_type": "markdown",
      "metadata": {
        "id": "view-in-github",
        "colab_type": "text"
      },
      "source": [
        "<a href=\"https://colab.research.google.com/github/CloudHunterTHEreal/UAI/blob/main/HW5_Pro_of_Python_%D0%B4%D0%BB%D1%8F_%D0%B0%D0%BD%D0%B0%D0%BB%D0%B8%D0%B7%D0%B0_%D0%B4%D0%B0%D0%BD%D0%BD%D1%8B%D1%85_%7C_%D0%A0%D0%B0%D0%B1%D0%BE%D1%82%D0%B0_%D1%81_%D0%BA%D0%BE%D0%BC%D0%B0%D0%BD%D0%B4%D0%BD%D0%BE%D0%B9_%D1%81%D1%82%D1%80%D0%BE%D0%BA%D0%BE%D0%B9_%D0%B8_%D1%84%D0%B0%D0%B9%D0%BB%D0%BE%D0%B2%D0%BE%D0%B9_%D1%81%D0%B8%D1%81%D1%82%D0%B5%D0%BC%D0%BE%D0%B9_%7C_%D0%94%D0%97_2_%7C_%D0%A3%D0%98%D0%98.ipynb\" target=\"_parent\"><img src=\"https://colab.research.google.com/assets/colab-badge.svg\" alt=\"Open In Colab\"/></a>"
      ]
    },
    {
      "cell_type": "markdown",
      "metadata": {
        "id": "6L0mh1SaqVdE"
      },
      "source": [
        "## Задание 1\n"
      ]
    },
    {
      "cell_type": "markdown",
      "metadata": {
        "id": "4OJuP-LXqVdF"
      },
      "source": [
        "1. Пройтись по всем подкаталогам из корневой папки.\n",
        "2. Считать имена файлов, их формат и размер.\n",
        "3. В каждом подкаталоге создать json-файл (`data.json`) с такой информацией:\n",
        " - Ключ - \"filename\". Данные - название файла без формата. \n",
        " - Ключ - \"file_format\". Данные - формат файла.\n",
        " - Ключ - \"size\". Данные - количество строк в файле.\n",
        "4. Вывести время выполнения кода."
      ]
    },
    {
      "cell_type": "code",
      "metadata": {
        "colab": {
          "base_uri": "https://localhost:8080/",
          "height": 88
        },
        "id": "4oG1XESTp3CR",
        "outputId": "ad0a7272-de40-4ee1-b1b6-4c02bd16ea8b"
      },
      "source": [
        "# Ваш код\n",
        "import os\n",
        "import glob\n",
        "import pathlib\n",
        "from collections import namedtuple\n",
        "\n",
        "File_info = namedtuple('File_info', ('filename', 'file_format', 'size'))\n",
        "\n",
        "start_dir = os.getcwd()\n",
        "display('Start directory:', start_dir)\n",
        "\n",
        "filepath = 'dir.lst'\n",
        "\n",
        "def get_fileinfo(filepath: str = '') -> File_info:\n",
        "    \"\"\"\n",
        "    Prep dict with file information\n",
        "\n",
        "    P.S. Better naming and wider information - look at the personal Joplin\n",
        "\n",
        "    \"\"\"\n",
        "    EMPTY_FILEINFO = File_info(None, None, None)\n",
        "    try:\n",
        "        splatted_filename = filepath.split('.')\n",
        "        f_name = splatted_filename[0]\n",
        "        if len(splatted_filename) > 1:\n",
        "            f_ext = splatted_filename[-1]\n",
        "        else:\n",
        "            f_ext = ''\n",
        "\n",
        "        file_info=File_info(filename = f_name,\n",
        "                            file_format = f_ext,\n",
        "                            size = len([line for line in open(filepath, 'r') ])\n",
        "                            )\n",
        "    except FileNotFoundError:\n",
        "        print(f\"[!] File not found: {filepath}\")\n",
        "        file_info = EMPTY_FILEINFO\n",
        "    except Exception as ex:\n",
        "        raise ex\n",
        "\n",
        "    return file_info\n",
        "\n",
        "tst_f_info = get_fileinfo('dir.lst')\n",
        "\n",
        "dict(tst_f_info._asdict())"
      ],
      "execution_count": 16,
      "outputs": [
        {
          "output_type": "display_data",
          "data": {
            "application/vnd.google.colaboratory.intrinsic+json": {
              "type": "string"
            },
            "text/plain": [
              "'Start directory:'"
            ]
          },
          "metadata": {}
        },
        {
          "output_type": "display_data",
          "data": {
            "application/vnd.google.colaboratory.intrinsic+json": {
              "type": "string"
            },
            "text/plain": [
              "'/content'"
            ]
          },
          "metadata": {}
        },
        {
          "output_type": "stream",
          "name": "stdout",
          "text": [
            "[!] File not found: dir.lst\n"
          ]
        },
        {
          "output_type": "execute_result",
          "data": {
            "text/plain": [
              "{'file_format': None, 'filename': None, 'size': None}"
            ]
          },
          "metadata": {},
          "execution_count": 16
        }
      ]
    },
    {
      "cell_type": "code",
      "source": [
        "!ls -A"
      ],
      "metadata": {
        "colab": {
          "base_uri": "https://localhost:8080/"
        },
        "id": "L-n6LRi8aXI7",
        "outputId": "9a8214fb-76ef-4fc5-9f81-2d7620fd0197"
      },
      "execution_count": 13,
      "outputs": [
        {
          "output_type": "stream",
          "name": "stdout",
          "text": [
            ".config  sample_data\n"
          ]
        }
      ]
    },
    {
      "cell_type": "code",
      "metadata": {
        "colab": {
          "base_uri": "https://localhost:8080/",
          "height": 69
        },
        "id": "luhhzwJd8-h8",
        "outputId": "9fe375e7-a992-4b6d-e112-8b4ee1786384"
      },
      "source": [
        "with open('tst_flat.json', 'a') as f:\n",
        "    f.write(str([':'.join((str(idx), str(digit))) for idx, digit in enumerate(range(3))]))\n",
        "\n",
        "!cat 'tst_flat.json'\n",
        "display(len([line for line in open('tst_flat.json', 'r')]))\n",
        "\n",
        "with open('tst_flat.json', 'r') as f:\n",
        "    print(f.read())\n",
        "!rm 'tst_flat.json'"
      ],
      "execution_count": null,
      "outputs": [
        {
          "output_type": "stream",
          "name": "stdout",
          "text": [
            "['0:0', '1:1', '2:2']"
          ]
        },
        {
          "output_type": "display_data",
          "data": {
            "text/plain": [
              "1"
            ]
          },
          "metadata": {}
        },
        {
          "output_type": "stream",
          "name": "stdout",
          "text": [
            "['0:0', '1:1', '2:2']\n"
          ]
        }
      ]
    },
    {
      "cell_type": "code",
      "metadata": {
        "colab": {
          "base_uri": "https://localhost:8080/"
        },
        "id": "X4vu9PLS-R_9",
        "outputId": "4d29f554-5c09-4fe6-a47e-b28aea2a4d90"
      },
      "source": [
        "[print(':'.join((str(idx), str(digit)))) for idx, digit in enumerate(range(3))]"
      ],
      "execution_count": null,
      "outputs": [
        {
          "output_type": "stream",
          "name": "stdout",
          "text": [
            "0:0\n",
            "1:1\n",
            "2:2\n"
          ]
        },
        {
          "output_type": "execute_result",
          "data": {
            "text/plain": [
              "[None, None, None]"
            ]
          },
          "metadata": {},
          "execution_count": 133
        }
      ]
    },
    {
      "cell_type": "code",
      "metadata": {
        "colab": {
          "base_uri": "https://localhost:8080/",
          "height": 35
        },
        "id": "0koDsxAO-gFx",
        "outputId": "38718943-3c34-4a61-a532-074ce2cdb5da"
      },
      "source": [
        "idx = 0\n",
        "digit = 2\n",
        "':'.join((str(idx), str(digit)))"
      ],
      "execution_count": null,
      "outputs": [
        {
          "output_type": "execute_result",
          "data": {
            "application/vnd.google.colaboratory.intrinsic+json": {
              "type": "string"
            },
            "text/plain": [
              "'0:2'"
            ]
          },
          "metadata": {},
          "execution_count": 125
        }
      ]
    },
    {
      "cell_type": "code",
      "metadata": {
        "id": "-DcvcyfVqVdF",
        "colab": {
          "base_uri": "https://localhost:8080/",
          "height": 105
        },
        "outputId": "2b85abb5-55dd-4b61-fb4d-c3a77aee02e6"
      },
      "source": [
        "\n",
        "\n",
        "display(os.path, glob.glob('*'))\n",
        "# !ls -al > dir.lst\n",
        "# !cat dir.lst\n",
        "glob.glob('*')\n",
        "display(os.path.isfile('dir.lst'),\n",
        "        os.path.isdir('dir.lst'),\n",
        "        os.getcwd()\n",
        "        )"
      ],
      "execution_count": 14,
      "outputs": [
        {
          "output_type": "display_data",
          "data": {
            "text/plain": [
              "<module 'posixpath' from '/usr/lib/python3.7/posixpath.py'>"
            ]
          },
          "metadata": {}
        },
        {
          "output_type": "display_data",
          "data": {
            "text/plain": [
              "['sample_data']"
            ]
          },
          "metadata": {}
        },
        {
          "output_type": "display_data",
          "data": {
            "text/plain": [
              "False"
            ]
          },
          "metadata": {}
        },
        {
          "output_type": "display_data",
          "data": {
            "text/plain": [
              "False"
            ]
          },
          "metadata": {}
        },
        {
          "output_type": "display_data",
          "data": {
            "application/vnd.google.colaboratory.intrinsic+json": {
              "type": "string"
            },
            "text/plain": [
              "'/content'"
            ]
          },
          "metadata": {}
        }
      ]
    },
    {
      "cell_type": "code",
      "metadata": {
        "id": "ocAU0KQytYVq"
      },
      "source": [
        "del f_info"
      ],
      "execution_count": null,
      "outputs": []
    },
    {
      "cell_type": "code",
      "metadata": {
        "colab": {
          "base_uri": "https://localhost:8080/"
        },
        "id": "2dYfCfxorqmf",
        "outputId": "e1e56f74-0e33-4051-d594-2a1c8c103b76"
      },
      "source": [
        "import json # Импортируем модуль для работы с json\n",
        "\n",
        "obj = {'one':123, 'two':[1,2,3,]}\n",
        "data = json.dumps(obj) # сериасериализует obj в строку JSON-формата.лизует obj в строку JSON-формата.\n",
        "print(type(data)) # Выводим тип данных\n",
        "print(data) # Выводим содержимое data\n",
        "\n",
        "with open('data.json', 'w') as f: # Используем новую конструкцию для открытия файла. Такая конструкция гарантирует, что файл будет закрыт вне зависимости от того, что введёт пользователь.\n",
        "  f.write(data) # Записываем в файл данные data. Обратите внимание на формат нашего файла. Теперь он имеет формат json.\n",
        "\n",
        "with open('data.json','r') as f: # Открываем файл на чтение\n",
        "  new_data = f.read() # Считываем все данные в new_data\n",
        "print(new_data)\n",
        "\n",
        "new_data = json.loads(new_data) # десериализует JSON из new_data\n",
        "print(type(new_data)) # После считывания данных через .loads() посмотрим какой тип данных имеет new_data. (Это теперь словарь с ключами типа 'one', 'two', так как изначально был словарь)\n",
        "print(new_data.keys()) # Посмотри какие у нас ключи\n",
        "print(new_data['two']) # Выведем данные"
      ],
      "execution_count": null,
      "outputs": [
        {
          "output_type": "stream",
          "name": "stdout",
          "text": [
            "<class 'str'>\n",
            "{\"one\": 123, \"two\": [1, 2, 3]}\n",
            "{\"one\": 123, \"two\": [1, 2, 3]}\n",
            "<class 'dict'>\n",
            "dict_keys(['one', 'two'])\n",
            "[1, 2, 3]\n"
          ]
        }
      ]
    },
    {
      "cell_type": "code",
      "metadata": {
        "colab": {
          "base_uri": "https://localhost:8080/"
        },
        "id": "PfSc34L5rzn9",
        "outputId": "a831b9c2-a082-4e20-d312-50260c95705f"
      },
      "source": [
        "len(new_data)"
      ],
      "execution_count": null,
      "outputs": [
        {
          "output_type": "execute_result",
          "data": {
            "text/plain": [
              "2"
            ]
          },
          "metadata": {},
          "execution_count": 44
        }
      ]
    },
    {
      "cell_type": "code",
      "metadata": {
        "colab": {
          "base_uri": "https://localhost:8080/"
        },
        "id": "2VMUpd32sMw2",
        "outputId": "70059227-a4ef-4c2b-c09c-1acfac824de6"
      },
      "source": [
        "f = open('data.json', 'r')\n",
        "[print(line) for line in f]\n"
      ],
      "execution_count": null,
      "outputs": [
        {
          "output_type": "stream",
          "name": "stdout",
          "text": [
            "{\"one\": 123, \"two\": [1, 2, 3]}\n"
          ]
        },
        {
          "output_type": "execute_result",
          "data": {
            "text/plain": [
              "[None]"
            ]
          },
          "metadata": {},
          "execution_count": 45
        }
      ]
    },
    {
      "cell_type": "code",
      "metadata": {
        "colab": {
          "base_uri": "https://localhost:8080/",
          "height": 35
        },
        "id": "N5Pyde9-o5B5",
        "outputId": "e1a84cc9-ac68-41c3-d496-ef3af04c26c8"
      },
      "source": [
        "os.getcwd()"
      ],
      "execution_count": null,
      "outputs": [
        {
          "output_type": "execute_result",
          "data": {
            "application/vnd.google.colaboratory.intrinsic+json": {
              "type": "string"
            },
            "text/plain": [
              "'/content'"
            ]
          },
          "metadata": {},
          "execution_count": 36
        }
      ]
    },
    {
      "cell_type": "code",
      "metadata": {
        "colab": {
          "base_uri": "https://localhost:8080/"
        },
        "id": "NiZSN_Eey2xO",
        "outputId": "aa73b12f-8386-4e41-bf0a-24b71c50d2d8"
      },
      "source": [
        "!pwd\n",
        "[entry for entry in os.scandir('.') if not entry.is_file()]"
      ],
      "execution_count": null,
      "outputs": [
        {
          "output_type": "stream",
          "name": "stdout",
          "text": [
            "/content\n"
          ]
        },
        {
          "output_type": "execute_result",
          "data": {
            "text/plain": [
              "[<DirEntry '.config'>, <DirEntry 'sample_data'>]"
            ]
          },
          "metadata": {},
          "execution_count": 120
        }
      ]
    },
    {
      "cell_type": "code",
      "metadata": {
        "colab": {
          "base_uri": "https://localhost:8080/"
        },
        "id": "moiIn4k3eVLN",
        "outputId": "af75996b-16ff-4c8f-ff8a-96bcb8e9b09c"
      },
      "source": [
        "!cat dir.lst\n"
      ],
      "execution_count": null,
      "outputs": [
        {
          "output_type": "stream",
          "name": "stdout",
          "text": [
            "total 16\n",
            "drwxr-xr-x 1 root root 4096 Dec  5 16:28 .\n",
            "drwxr-xr-x 1 root root 4096 Dec  5 16:26 ..\n",
            "drwxr-xr-x 4 root root 4096 Nov 18 14:35 .config\n",
            "-rw-r--r-- 1 root root    0 Dec  5 16:29 dir.lst\n",
            "drwxr-xr-x 1 root root 4096 Nov 18 14:36 sample_data\n"
          ]
        }
      ]
    },
    {
      "cell_type": "code",
      "metadata": {
        "colab": {
          "base_uri": "https://localhost:8080/"
        },
        "id": "75glw4Qubqw8",
        "outputId": "4f08d93f-b47c-449b-e6e7-d0117d2fcbdc"
      },
      "source": [
        "[print(f\"Path:{dirpath}\\tDirs:{dirnames}\\nFiles:{filenames}\") for dirpath, dirnames, filenames in os.walk('.')]"
      ],
      "execution_count": null,
      "outputs": [
        {
          "output_type": "stream",
          "name": "stdout",
          "text": [
            "Path:.\tDirs:['.config', 'sample_data']\n",
            "Files:['dir.lst']\n",
            "Path:./.config\tDirs:['configurations', 'logs']\n",
            "Files:['.last_update_check.json', '.last_opt_in_prompt.yaml', 'active_config', 'gce', '.last_survey_prompt.yaml', 'config_sentinel']\n",
            "Path:./.config/configurations\tDirs:[]\n",
            "Files:['config_default']\n",
            "Path:./.config/logs\tDirs:['2021.11.18']\n",
            "Files:[]\n",
            "Path:./.config/logs/2021.11.18\tDirs:[]\n",
            "Files:['14.34.49.152157.log', '14.35.36.918574.log', '14.35.09.738473.log', '14.35.58.667492.log', '14.35.29.959577.log', '14.35.57.849518.log']\n",
            "Path:./sample_data\tDirs:[]\n",
            "Files:['README.md', 'anscombe.json', 'california_housing_train.csv', 'mnist_test.csv', 'mnist_train_small.csv', 'california_housing_test.csv']\n"
          ]
        },
        {
          "output_type": "execute_result",
          "data": {
            "text/plain": [
              "[None, None, None, None, None, None]"
            ]
          },
          "metadata": {},
          "execution_count": 26
        }
      ]
    },
    {
      "cell_type": "code",
      "metadata": {
        "colab": {
          "base_uri": "https://localhost:8080/"
        },
        "id": "XDSva_wey8TM",
        "outputId": "342ef35b-bd30-4916-c0cd-5dabdf434f42"
      },
      "source": [
        "help(os.walk)"
      ],
      "execution_count": null,
      "outputs": [
        {
          "output_type": "stream",
          "name": "stdout",
          "text": [
            "Help on function walk in module os:\n",
            "\n",
            "walk(top, topdown=True, onerror=None, followlinks=False)\n",
            "    Directory tree generator.\n",
            "    \n",
            "    For each directory in the directory tree rooted at top (including top\n",
            "    itself, but excluding '.' and '..'), yields a 3-tuple\n",
            "    \n",
            "        dirpath, dirnames, filenames\n",
            "    \n",
            "    dirpath is a string, the path to the directory.  dirnames is a list of\n",
            "    the names of the subdirectories in dirpath (excluding '.' and '..').\n",
            "    filenames is a list of the names of the non-directory files in dirpath.\n",
            "    Note that the names in the lists are just names, with no path components.\n",
            "    To get a full path (which begins with top) to a file or directory in\n",
            "    dirpath, do os.path.join(dirpath, name).\n",
            "    \n",
            "    If optional arg 'topdown' is true or not specified, the triple for a\n",
            "    directory is generated before the triples for any of its subdirectories\n",
            "    (directories are generated top down).  If topdown is false, the triple\n",
            "    for a directory is generated after the triples for all of its\n",
            "    subdirectories (directories are generated bottom up).\n",
            "    \n",
            "    When topdown is true, the caller can modify the dirnames list in-place\n",
            "    (e.g., via del or slice assignment), and walk will only recurse into the\n",
            "    subdirectories whose names remain in dirnames; this can be used to prune the\n",
            "    search, or to impose a specific order of visiting.  Modifying dirnames when\n",
            "    topdown is false has no effect on the behavior of os.walk(), since the\n",
            "    directories in dirnames have already been generated by the time dirnames\n",
            "    itself is generated. No matter the value of topdown, the list of\n",
            "    subdirectories is retrieved before the tuples for the directory and its\n",
            "    subdirectories are generated.\n",
            "    \n",
            "    By default errors from the os.scandir() call are ignored.  If\n",
            "    optional arg 'onerror' is specified, it should be a function; it\n",
            "    will be called with one argument, an OSError instance.  It can\n",
            "    report the error to continue with the walk, or raise the exception\n",
            "    to abort the walk.  Note that the filename is available as the\n",
            "    filename attribute of the exception object.\n",
            "    \n",
            "    By default, os.walk does not follow symbolic links to subdirectories on\n",
            "    systems that support them.  In order to get this functionality, set the\n",
            "    optional argument 'followlinks' to true.\n",
            "    \n",
            "    Caution:  if you pass a relative pathname for top, don't change the\n",
            "    current working directory between resumptions of walk.  walk never\n",
            "    changes the current directory, and assumes that the client doesn't\n",
            "    either.\n",
            "    \n",
            "    Example:\n",
            "    \n",
            "    import os\n",
            "    from os.path import join, getsize\n",
            "    for root, dirs, files in os.walk('python/Lib/email'):\n",
            "        print(root, \"consumes\", end=\"\")\n",
            "        print(sum([getsize(join(root, name)) for name in files]), end=\"\")\n",
            "        print(\"bytes in\", len(files), \"non-directory files\")\n",
            "        if 'CVS' in dirs:\n",
            "            dirs.remove('CVS')  # don't visit CVS directories\n",
            "\n"
          ]
        }
      ]
    },
    {
      "cell_type": "code",
      "metadata": {
        "colab": {
          "base_uri": "https://localhost:8080/"
        },
        "id": "TLQff-xuclwc",
        "outputId": "e584921e-fa81-40f4-c7e6-ebfdde1437dd"
      },
      "source": [
        "import os\n",
        "from os.path import join, getsize\n",
        "for root, dirs, files in os.walk('.'):\n",
        "    print(root, \"consumes\", end=\"\")\n",
        "    print(sum([getsize(join(root, name)) for name in files]), end=\"\")\n",
        "    print(\"bytes in\", len(files), \"non-directory files\")\n",
        "    if 'CVS' in dirs:\n",
        "        dirs.remove('CVS')  # don't visit CVS directories"
      ],
      "execution_count": null,
      "outputs": [
        {
          "output_type": "stream",
          "name": "stdout",
          "text": [
            ". consumes247bytes in 1 non-directory files\n",
            "./.config consumes187bytes in 6 non-directory files\n",
            "./.config/configurations consumes94bytes in 1 non-directory files\n",
            "./.config/logs consumes0bytes in 0 non-directory files\n",
            "./.config/logs/2021.11.18 consumes41298bytes in 6 non-directory files\n",
            "./sample_data consumes56823521bytes in 6 non-directory files\n"
          ]
        }
      ]
    },
    {
      "cell_type": "markdown",
      "metadata": {
        "id": "MRB1Y8luFauZ"
      },
      "source": [
        "## Задание 2"
      ]
    },
    {
      "cell_type": "markdown",
      "metadata": {
        "id": "bUCmBH7SFqn5"
      },
      "source": [
        "Собрать код выше в единый файл с разрешением data.py\n",
        "\n",
        "P.S. Вам потребуется освежить знания в магических функциях (%%)."
      ]
    },
    {
      "cell_type": "code",
      "metadata": {
        "id": "KWsAob6uCigo"
      },
      "source": [
        "# Ваш код\n"
      ],
      "execution_count": null,
      "outputs": []
    },
    {
      "cell_type": "markdown",
      "metadata": {
        "id": "AwWikwFHFtSN"
      },
      "source": [
        "Удалить ранее созданый файл формата .json."
      ]
    },
    {
      "cell_type": "code",
      "metadata": {
        "id": "z_WMU_yuEpCo"
      },
      "source": [
        "# Ваш код\n"
      ],
      "execution_count": null,
      "outputs": []
    },
    {
      "cell_type": "markdown",
      "metadata": {
        "id": "bL66MDahGEgw"
      },
      "source": [
        "Запустить его с помощью магической функции."
      ]
    },
    {
      "cell_type": "code",
      "metadata": {
        "id": "fful-RqIEl-B"
      },
      "source": [
        "# Ваш код\n"
      ],
      "execution_count": null,
      "outputs": []
    },
    {
      "cell_type": "markdown",
      "metadata": {
        "id": "mvPj0hJrGX4u"
      },
      "source": [
        "## Задание 3"
      ]
    },
    {
      "cell_type": "markdown",
      "metadata": {
        "id": "ioSN0xKJGZdv"
      },
      "source": [
        "Методами библиотеки ```datetime``` найдите название дня недели, в который вы родились. Посчитайте также количество секунд, которые вы провели на этой планете до сегодяшнего дня.\n",
        "\n",
        "Пример ответа:  ```('monday',123213875)```"
      ]
    },
    {
      "cell_type": "code",
      "metadata": {
        "id": "oe2vl17RGZCM",
        "colab": {
          "base_uri": "https://localhost:8080/"
        },
        "outputId": "dbab58c9-2b00-445e-986e-a25ec4d35fbd"
      },
      "source": [
        "# Ваш код\n",
        "from datetime import datetime, date\n",
        "\n",
        "birthday = date(1970, 2, 11)\n",
        "\n",
        "print(f\"День рождения:\\t{birthday},\\nДень недели:\\t{birthday.strftime('%A')},\\nБез\\\n",
        " учёта точного времени рождения и времени расчёта прошло:\\\n",
        " {(date.today() - birthday).days*24*60:,} секунд.\")\n"
      ],
      "execution_count": 5,
      "outputs": [
        {
          "output_type": "stream",
          "name": "stdout",
          "text": [
            "День рождения:\t1970-02-11,\n",
            "День недели:\tWednesday,\n",
            "Без учёта точного времени рождения и времени расчёта прошло: 27,254,880 секунд.\n"
          ]
        }
      ]
    }
  ]
}